{
 "cells": [
  {
   "cell_type": "code",
   "execution_count": 1,
   "id": "081f879a",
   "metadata": {},
   "outputs": [
    {
     "name": "stdout",
     "output_type": "stream",
     "text": [
      "/usr/local/lib/python3.9/site-packages/pyProBound/jardir\n"
     ]
    },
    {
     "ename": "ModuleNotFoundError",
     "evalue": "No module named 'proBoundTools'",
     "output_type": "error",
     "traceback": [
      "\u001b[0;31m---------------------------------------------------------------------------\u001b[0m",
      "\u001b[0;31mModuleNotFoundError\u001b[0m                       Traceback (most recent call last)",
      "\u001b[0;32m<ipython-input-1-fd01c799db16>\u001b[0m in \u001b[0;36m<module>\u001b[0;34m\u001b[0m\n\u001b[0;32m----> 1\u001b[0;31m \u001b[0;32mfrom\u001b[0m \u001b[0mpyProBound\u001b[0m\u001b[0;34m.\u001b[0m\u001b[0mscoring\u001b[0m \u001b[0;32mimport\u001b[0m \u001b[0mProBoundModel\u001b[0m\u001b[0;34m\u001b[0m\u001b[0;34m\u001b[0m\u001b[0m\n\u001b[0m",
      "\u001b[0;32m/usr/local/lib/python3.9/site-packages/pyProBound/scoring.py\u001b[0m in \u001b[0;36m<module>\u001b[0;34m\u001b[0m\n\u001b[1;32m     20\u001b[0m \u001b[0;34m\u001b[0m\u001b[0m\n\u001b[1;32m     21\u001b[0m \u001b[0;34m\u001b[0m\u001b[0m\n\u001b[0;32m---> 22\u001b[0;31m \u001b[0;32mfrom\u001b[0m \u001b[0mproBoundTools\u001b[0m \u001b[0;32mimport\u001b[0m \u001b[0mToolbox\u001b[0m\u001b[0;34m\u001b[0m\u001b[0;34m\u001b[0m\u001b[0m\n\u001b[0m\u001b[1;32m     23\u001b[0m \u001b[0;34m\u001b[0m\u001b[0m\n\u001b[1;32m     24\u001b[0m \u001b[0;34m\u001b[0m\u001b[0m\n",
      "\u001b[0;31mModuleNotFoundError\u001b[0m: No module named 'proBoundTools'"
     ]
    }
   ],
   "source": [
    "from pyProBound.scoring import ProBoundModel"
   ]
  },
  {
   "cell_type": "markdown",
   "id": "f313ae43",
   "metadata": {},
   "source": [
    "# Load model"
   ]
  },
  {
   "cell_type": "markdown",
   "id": "4d60d398",
   "metadata": {},
   "source": [
    "### Load model from motifcentral. \n",
    "\n",
    "These models generally have only one binding mode."
   ]
  },
  {
   "cell_type": "code",
   "execution_count": null,
   "id": "c58c3bfe",
   "metadata": {},
   "outputs": [],
   "source": [
    "# model = ProBoundModel(1000, motifcentral=True) "
   ]
  },
  {
   "cell_type": "markdown",
   "id": "e74b061b",
   "metadata": {},
   "source": [
    "### Load model from probound training output.\n",
    "\n",
    "Training is available from ProBound web server. The following model contains three binding modes (the first being non-specific binding)."
   ]
  },
  {
   "cell_type": "code",
   "execution_count": null,
   "id": "e3987cf9",
   "metadata": {},
   "outputs": [],
   "source": [
    "model = ProBoundModel(\"fit.sox2.json\", fitjson=True)  "
   ]
  },
  {
   "cell_type": "markdown",
   "id": "c132d21e",
   "metadata": {},
   "source": [
    "### Load model from probound training output and select a particular binding mode"
   ]
  },
  {
   "cell_type": "code",
   "execution_count": null,
   "id": "b5e70c08",
   "metadata": {},
   "outputs": [],
   "source": [
    "# model = ProBoundModel(\"fit.sox2.json\", fitjson=True, bindingMode=1)"
   ]
  },
  {
   "cell_type": "markdown",
   "id": "4368d305",
   "metadata": {},
   "source": [
    "It is also possible to load the entire model and pick the binding mode ex post or change the selected binding mode. It is not possible to return to scoring all binding modes at once or to score a larger subset of binding modes."
   ]
  },
  {
   "cell_type": "code",
   "execution_count": null,
   "id": "ca254a1d",
   "metadata": {},
   "outputs": [],
   "source": [
    "# model = ProBoundModel(\"fit.sox2.json\", fitjson=True)  \n",
    "# model.select_binding_mode(1)"
   ]
  },
  {
   "cell_type": "markdown",
   "id": "439425a8",
   "metadata": {},
   "source": [
    "# Define input sequences.\n",
    "\n",
    "We will now define some test sequences. This can be a list or a numpy array, but it should not be a pandas series (yet)"
   ]
  },
  {
   "cell_type": "code",
   "execution_count": null,
   "id": "223cdd28",
   "metadata": {},
   "outputs": [],
   "source": [
    "seqs = [\n",
    "    \"AAAAGACGACTGCGGTCACTGAGGTGTAAA\",\n",
    "    \"ACTGTTTGCTCTATGCGGAGGAGCCCCTTA\",\n",
    "    \"AAAAGACGACTGCGGTCACTGAGGTGTA\",\n",
    "    \"TTAACTGGGTATAGGGGCGAATATGGCGAC\",\n",
    "    \"TTAGCCGGGAGGGGGCGCTCCGTAGTGGAT\",\n",
    "    \"TTAGCCGGGAGGGGGCGCTCCGTAGTGGATAAA\",\n",
    "    \"ATAGTAGTCGTGCGCCCCCACTGGTGACAA\",\n",
    "    \"TGTTCCTTGCTTTTATAAGGTAAATGCAGG\",\n",
    "    \"ATAGTAGTCGTGCGCCCCCACTGGTGACAAAAA\",\n",
    "    \"AAAAGACGACTGCGGTCACTGAGGTGTA\",\n",
    "    \"AAAAGACGACTGCGGTCACTGAGGTGTA\",\n",
    "    \"AAAAGACGACTGCGGTCACTGTGTA\",\n",
    "]"
   ]
  },
  {
   "cell_type": "markdown",
   "id": "20c642fd",
   "metadata": {},
   "source": [
    "# Calculate affinity sum for each sequence\n",
    "\n",
    "Returns a numpy array of size (number of sequences) X 1"
   ]
  },
  {
   "cell_type": "code",
   "execution_count": null,
   "id": "35eb345d",
   "metadata": {},
   "outputs": [],
   "source": [
    "result = model.score_affinity_sum(seqs)\n",
    "result"
   ]
  },
  {
   "cell_type": "markdown",
   "id": "04034a4f",
   "metadata": {},
   "source": [
    "# Calculate a total binding mode score for each sequence and selected binding mode\n",
    "\n",
    "Available score_format options: \"sum\", \"max\", \"mean\"\n",
    "\n",
    "Returns a numpy array of size (number of sequences) X (number of binding modes)"
   ]
  },
  {
   "cell_type": "code",
   "execution_count": null,
   "id": "723275a6",
   "metadata": {},
   "outputs": [],
   "source": [
    "\n",
    "result = model.score_binding_mode_scores(seqs, score_format=\"sum\")\n",
    "result"
   ]
  },
  {
   "cell_type": "markdown",
   "id": "b204327a",
   "metadata": {},
   "source": [
    "# Analyze input sequences using a PSAM\n",
    "\n",
    "Using the PSAM of the model, slide through each input sequence and get array of scores.\n",
    "\n",
    "Parameter profile_aggregate (\"sum\"/\"max\"/\"mean\"/\"forward\"/None) specificies how to aggregate the scores from each DNA strand on the same position. If None, scores are not aggregated. \n",
    "\n",
    "Returns a list of arrays.\n",
    "- (no of sequences) X (no of binding modes) X slides X 2 (forward, reverse)) (no aggregation) \n",
    "- a list of arrays (no of sequences) X model_binding_modes X slides (with aggregation)"
   ]
  },
  {
   "cell_type": "code",
   "execution_count": null,
   "id": "c842b6f7",
   "metadata": {},
   "outputs": [],
   "source": [
    "result = model.score_binding_mode_scores(seqs, \n",
    "                                         score_format=\"profile\", \n",
    "                                         profile_aggregate=\"max\"\n",
    "                                        )\n",
    "result"
   ]
  },
  {
   "cell_type": "code",
   "execution_count": null,
   "id": "456ea283",
   "metadata": {},
   "outputs": [],
   "source": []
  }
 ],
 "metadata": {
  "kernelspec": {
   "display_name": "Python 3",
   "language": "python",
   "name": "python3"
  },
  "language_info": {
   "codemirror_mode": {
    "name": "ipython",
    "version": 3
   },
   "file_extension": ".py",
   "mimetype": "text/x-python",
   "name": "python",
   "nbconvert_exporter": "python",
   "pygments_lexer": "ipython3",
   "version": "3.9.14"
  }
 },
 "nbformat": 4,
 "nbformat_minor": 5
}
