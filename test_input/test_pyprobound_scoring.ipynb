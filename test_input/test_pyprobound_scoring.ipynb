{
 "cells": [
  {
   "cell_type": "code",
   "execution_count": 1,
   "id": "081f879a",
   "metadata": {},
   "outputs": [],
   "source": [
    "from pyProBound import ProBoundModel"
   ]
  },
  {
   "cell_type": "markdown",
   "id": "f313ae43",
   "metadata": {},
   "source": [
    "# Load model"
   ]
  },
  {
   "cell_type": "markdown",
   "id": "4d60d398",
   "metadata": {},
   "source": [
    "### Load model from motifcentral. \n",
    "\n",
    "These models generally have only one binding mode."
   ]
  },
  {
   "cell_type": "code",
   "execution_count": 2,
   "id": "c58c3bfe",
   "metadata": {},
   "outputs": [],
   "source": [
    "# model = ProBoundModel(1000, motifcentral=True) "
   ]
  },
  {
   "cell_type": "markdown",
   "id": "e74b061b",
   "metadata": {},
   "source": [
    "### Load model from probound training output.\n",
    "\n",
    "Training is available from ProBound web server. The following model contains three binding modes (the first being non-specific binding)."
   ]
  },
  {
   "cell_type": "code",
   "execution_count": 3,
   "id": "e3987cf9",
   "metadata": {},
   "outputs": [],
   "source": [
    "model = ProBoundModel(\"fit.sox2.json\", fitjson=True)  "
   ]
  },
  {
   "cell_type": "markdown",
   "id": "c132d21e",
   "metadata": {},
   "source": [
    "### Load model from probound training output and select a particular binding mode"
   ]
  },
  {
   "cell_type": "code",
   "execution_count": 4,
   "id": "b5e70c08",
   "metadata": {},
   "outputs": [],
   "source": [
    "# model = ProBoundModel(\"fit.sox2.json\", fitjson=True, bindingMode=1)"
   ]
  },
  {
   "cell_type": "markdown",
   "id": "4368d305",
   "metadata": {},
   "source": [
    "It is also possible to load the entire model and pick the binding mode ex post or change the selected binding mode. It is not possible to return to scoring all binding modes at once or to score a larger subset of binding modes."
   ]
  },
  {
   "cell_type": "code",
   "execution_count": 5,
   "id": "ca254a1d",
   "metadata": {},
   "outputs": [],
   "source": [
    "# model = ProBoundModel(\"fit.sox2.json\", fitjson=True)  \n",
    "# model.select_binding_mode(1)"
   ]
  },
  {
   "cell_type": "markdown",
   "id": "439425a8",
   "metadata": {},
   "source": [
    "# Define input sequences.\n",
    "\n",
    "We will now define some test sequences. This can be a list or a numpy array, but it should not be a pandas series (yet)"
   ]
  },
  {
   "cell_type": "code",
   "execution_count": 6,
   "id": "223cdd28",
   "metadata": {},
   "outputs": [],
   "source": [
    "seqs = [\n",
    "    \"AAAAGACGACTGCGGTCACTGAGGTGTAAA\",\n",
    "    \"ACTGTTTGCTCTATGCGGAGGAGCCCCTTA\",\n",
    "    \"AAAAGACGACTGCGGTCACTGAGGTGTA\",\n",
    "    \"TTAACTGGGTATAGGGGCGAATATGGCGAC\",\n",
    "    \"TTAGCCGGGAGGGGGCGCTCCGTAGTGGAT\",\n",
    "    \"TTAGCCGGGAGGGGGCGCTCCGTAGTGGATAAA\",\n",
    "    \"ATAGTAGTCGTGCGCCCCCACTGGTGACAA\",\n",
    "    \"TGTTCCTTGCTTTTATAAGGTAAATGCAGG\",\n",
    "    \"ATAGTAGTCGTGCGCCCCCACTGGTGACAAAAA\",\n",
    "    \"AAAAGACGACTGCGGTCACTGAGGTGTA\",\n",
    "    \"AAAAGACGACTGCGGTCACTGAGGTGTA\",\n",
    "    \"AAAAGACGACTGCGGTCACTGTGTA\",\n",
    "]"
   ]
  },
  {
   "cell_type": "markdown",
   "id": "20c642fd",
   "metadata": {},
   "source": [
    "# Calculate affinity sum for each sequence\n",
    "\n",
    "Returns a numpy array of size (number of sequences) X 1"
   ]
  },
  {
   "cell_type": "code",
   "execution_count": 7,
   "id": "35eb345d",
   "metadata": {},
   "outputs": [
    {
     "data": {
      "text/plain": [
       "array([[0.01215323],\n",
       "       [0.01563752],\n",
       "       [0.00787506],\n",
       "       [0.01265492],\n",
       "       [0.00506125],\n",
       "       [0.00732187],\n",
       "       [0.00685346],\n",
       "       [0.07234593],\n",
       "       [0.00948732],\n",
       "       [0.00787506],\n",
       "       [0.00787506],\n",
       "       [0.01180993]])"
      ]
     },
     "execution_count": 7,
     "metadata": {},
     "output_type": "execute_result"
    }
   ],
   "source": [
    "result = model.score_affinity_sum(seqs)\n",
    "result"
   ]
  },
  {
   "cell_type": "markdown",
   "id": "04034a4f",
   "metadata": {},
   "source": [
    "# Calculate a total binding mode score for each sequence and selected binding mode\n",
    "\n",
    "Available score_format options: \"sum\", \"max\", \"mean\"\n",
    "\n",
    "Returns a numpy array of size (number of sequences) X (number of binding modes)"
   ]
  },
  {
   "cell_type": "code",
   "execution_count": 8,
   "id": "723275a6",
   "metadata": {},
   "outputs": [
    {
     "data": {
      "text/plain": [
       "array([[3.80000000e+01, 1.87767557e-03, 2.07118962e-01],\n",
       "       [3.80000000e+01, 2.51163174e-03, 2.64799981e-01],\n",
       "       [3.40000000e+01, 1.75157922e-03, 1.23181782e-01],\n",
       "       [3.80000000e+01, 1.52430415e-03, 2.24422594e-01],\n",
       "       [3.80000000e+01, 8.66304463e-04, 8.40678798e-02],\n",
       "       [4.40000000e+01, 9.35627296e-04, 1.28282413e-01],\n",
       "       [3.80000000e+01, 7.83029277e-04, 1.22021354e-01],\n",
       "       [3.80000000e+01, 3.98743258e-02, 6.56291982e-01],\n",
       "       [4.40000000e+01, 7.91526068e-04, 1.75019956e-01],\n",
       "       [3.40000000e+01, 1.75157922e-03, 1.23181782e-01],\n",
       "       [3.40000000e+01, 1.75157922e-03, 1.23181782e-01],\n",
       "       [2.80000000e+01, 5.59357338e-03, 1.25191203e-01]])"
      ]
     },
     "execution_count": 8,
     "metadata": {},
     "output_type": "execute_result"
    }
   ],
   "source": [
    "result = model.score_binding_mode_scores(seqs, score_format=\"sum\")\n",
    "result"
   ]
  },
  {
   "cell_type": "markdown",
   "id": "b204327a",
   "metadata": {},
   "source": [
    "# Analyze input sequences using a PSAM\n",
    "\n",
    "Using the PSAM of the model, slide through each input sequence and get array of scores.\n",
    "\n",
    "Parameter profile_aggregate (\"sum\"/\"max\"/\"mean\"/\"forward\"/None) specificies how to aggregate the scores from each DNA strand on the same position. If None, scores are not aggregated. \n",
    "\n",
    "Returns a list of arrays.\n",
    "- (no of sequences) X (no of binding modes) X slides X 2 (forward, reverse)) (no aggregation) \n",
    "- a list of arrays (no of sequences) X model_binding_modes X slides (with aggregation)"
   ]
  },
  {
   "cell_type": "code",
   "execution_count": 10,
   "id": "c842b6f7",
   "metadata": {},
   "outputs": [
    {
     "data": {
      "text/plain": [
       "array([[1.00000000e+00, 1.00000000e+00, 1.00000000e+00, 1.00000000e+00,\n",
       "        1.00000000e+00, 1.00000000e+00, 1.00000000e+00, 1.00000000e+00,\n",
       "        1.00000000e+00, 1.00000000e+00, 1.00000000e+00, 1.00000000e+00,\n",
       "        1.00000000e+00, 1.00000000e+00, 1.00000000e+00, 1.00000000e+00,\n",
       "        1.00000000e+00, 1.00000000e+00, 1.00000000e+00],\n",
       "       [2.20362971e-05, 8.74388562e-05, 1.13578652e-08, 2.08892892e-04,\n",
       "        5.70876605e-05, 1.92854680e-06, 1.96429909e-05, 9.67967193e-08,\n",
       "        1.52329223e-05, 8.05396263e-07, 3.95909749e-06, 5.12811568e-08,\n",
       "        2.39034605e-04, 8.44623174e-04, 2.28682124e-06, 1.83143196e-04,\n",
       "        1.32499644e-06, 1.20042237e-04, 7.97231402e-08],\n",
       "       [3.21790978e-03, 2.12704465e-02, 1.24631838e-03, 5.56818299e-03,\n",
       "        5.69560228e-03, 2.01225577e-03, 1.62436022e-03, 7.10758325e-04,\n",
       "        1.15242364e-02, 8.61105588e-03, 2.90278024e-03, 2.16180544e-03,\n",
       "        1.06587300e-02, 3.23369867e-03, 2.58635452e-03, 4.61506643e-03,\n",
       "        7.44779701e-04, 4.91735891e-02, 6.04271834e-03]])"
      ]
     },
     "execution_count": 10,
     "metadata": {},
     "output_type": "execute_result"
    }
   ],
   "source": [
    "result = model.score_binding_mode_scores(seqs, \n",
    "                                         score_format=\"profile\", \n",
    "                                         profile_aggregate=\"max\"\n",
    "                                        )\n",
    "result[0]"
   ]
  },
  {
   "cell_type": "code",
   "execution_count": null,
   "id": "456ea283",
   "metadata": {},
   "outputs": [],
   "source": []
  }
 ],
 "metadata": {
  "kernelspec": {
   "display_name": "Python 3",
   "language": "python",
   "name": "python3"
  },
  "language_info": {
   "codemirror_mode": {
    "name": "ipython",
    "version": 3
   },
   "file_extension": ".py",
   "mimetype": "text/x-python",
   "name": "python",
   "nbconvert_exporter": "python",
   "pygments_lexer": "ipython3",
   "version": "3.9.14"
  }
 },
 "nbformat": 4,
 "nbformat_minor": 5
}
