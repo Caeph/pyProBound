{
 "cells": [
  {
   "cell_type": "code",
   "execution_count": 1,
   "id": "153cd4d3",
   "metadata": {},
   "outputs": [],
   "source": [
    "from pyProBound import MotifCentral"
   ]
  },
  {
   "cell_type": "markdown",
   "id": "1117866f",
   "metadata": {},
   "source": [
    "# Create instance of the MotifCentral database"
   ]
  },
  {
   "cell_type": "code",
   "execution_count": 2,
   "id": "9044ba18",
   "metadata": {},
   "outputs": [],
   "source": [
    "database = MotifCentral()"
   ]
  },
  {
   "cell_type": "markdown",
   "id": "a604daa1",
   "metadata": {},
   "source": [
    "## See values in the database\n",
    "\n",
    "Function get options returns a dictionary with the following keys: taxa, publications, gene_symbols.\n"
   ]
  },
  {
   "cell_type": "code",
   "execution_count": 3,
   "id": "0f984a55",
   "metadata": {},
   "outputs": [
    {
     "data": {
      "text/plain": [
       "array(['Mus musculus', 'Homo sapiens', 'Drosophila melanogaster'],\n",
       "      dtype=object)"
      ]
     },
     "execution_count": 3,
     "metadata": {},
     "output_type": "execute_result"
    }
   ],
   "source": [
    "options = database.get_options()\n",
    "options[\"taxa\"]"
   ]
  },
  {
   "cell_type": "markdown",
   "id": "79c9207f",
   "metadata": {},
   "source": [
    "## Query the database\n",
    "\n",
    "Acquire all the models of a Drosophila melanogaster TF that were constructed using data from Isakova2017 or Jolma2013 publication."
   ]
  },
  {
   "cell_type": "code",
   "execution_count": 4,
   "id": "d046226e",
   "metadata": {},
   "outputs": [
    {
     "data": {
      "text/html": [
       "<div>\n",
       "<style scoped>\n",
       "    .dataframe tbody tr th:only-of-type {\n",
       "        vertical-align: middle;\n",
       "    }\n",
       "\n",
       "    .dataframe tbody tr th {\n",
       "        vertical-align: top;\n",
       "    }\n",
       "\n",
       "    .dataframe thead th {\n",
       "        text-align: right;\n",
       "    }\n",
       "</style>\n",
       "<table border=\"1\" class=\"dataframe\">\n",
       "  <thead>\n",
       "    <tr style=\"text-align: right;\">\n",
       "      <th></th>\n",
       "      <th>model_id</th>\n",
       "      <th>gene_symbols</th>\n",
       "      <th>tax_id</th>\n",
       "      <th>gene_names</th>\n",
       "      <th>publications</th>\n",
       "      <th>studies</th>\n",
       "      <th>taxa</th>\n",
       "    </tr>\n",
       "  </thead>\n",
       "  <tbody>\n",
       "    <tr>\n",
       "      <th>47</th>\n",
       "      <td>11388</td>\n",
       "      <td>[ttk]</td>\n",
       "      <td>7227</td>\n",
       "      <td>tramtrack</td>\n",
       "      <td>[Isakova2017]</td>\n",
       "      <td>[Isakova2017-Ttk]</td>\n",
       "      <td>Drosophila melanogaster</td>\n",
       "    </tr>\n",
       "    <tr>\n",
       "      <th>429</th>\n",
       "      <td>15512</td>\n",
       "      <td>[opa]</td>\n",
       "      <td>7227</td>\n",
       "      <td>odd paired</td>\n",
       "      <td>[Isakova2017]</td>\n",
       "      <td>[Isakova2017-Opa]</td>\n",
       "      <td>Drosophila melanogaster</td>\n",
       "    </tr>\n",
       "  </tbody>\n",
       "</table>\n",
       "</div>"
      ],
      "text/plain": [
       "     model_id gene_symbols  tax_id  gene_names   publications  \\\n",
       "47      11388        [ttk]    7227   tramtrack  [Isakova2017]   \n",
       "429     15512        [opa]    7227  odd paired  [Isakova2017]   \n",
       "\n",
       "               studies                     taxa  \n",
       "47   [Isakova2017-Ttk]  Drosophila melanogaster  \n",
       "429  [Isakova2017-Opa]  Drosophila melanogaster  "
      ]
     },
     "execution_count": 4,
     "metadata": {},
     "output_type": "execute_result"
    }
   ],
   "source": [
    "database.filter(taxa=[\"Drosophila melanogaster\"], publications=[\"Isakova2017\", \"Jolma2013\"])"
   ]
  },
  {
   "cell_type": "markdown",
   "id": "56e33cb6",
   "metadata": {},
   "source": [
    "## See model details given model ID"
   ]
  },
  {
   "cell_type": "code",
   "execution_count": 5,
   "id": "ef8725da",
   "metadata": {},
   "outputs": [
    {
     "data": {
      "text/html": [
       "<div>\n",
       "<style scoped>\n",
       "    .dataframe tbody tr th:only-of-type {\n",
       "        vertical-align: middle;\n",
       "    }\n",
       "\n",
       "    .dataframe tbody tr th {\n",
       "        vertical-align: top;\n",
       "    }\n",
       "\n",
       "    .dataframe thead th {\n",
       "        text-align: right;\n",
       "    }\n",
       "</style>\n",
       "<table border=\"1\" class=\"dataframe\">\n",
       "  <thead>\n",
       "    <tr style=\"text-align: right;\">\n",
       "      <th></th>\n",
       "      <th>model_id</th>\n",
       "      <th>gene_symbols</th>\n",
       "      <th>tax_id</th>\n",
       "      <th>gene_names</th>\n",
       "      <th>publications</th>\n",
       "      <th>studies</th>\n",
       "      <th>taxa</th>\n",
       "    </tr>\n",
       "  </thead>\n",
       "  <tbody>\n",
       "    <tr>\n",
       "      <th>47</th>\n",
       "      <td>11388</td>\n",
       "      <td>[ttk]</td>\n",
       "      <td>7227</td>\n",
       "      <td>tramtrack</td>\n",
       "      <td>[Isakova2017]</td>\n",
       "      <td>[Isakova2017-Ttk]</td>\n",
       "      <td>Drosophila melanogaster</td>\n",
       "    </tr>\n",
       "  </tbody>\n",
       "</table>\n",
       "</div>"
      ],
      "text/plain": [
       "    model_id gene_symbols  tax_id gene_names   publications  \\\n",
       "47     11388        [ttk]    7227  tramtrack  [Isakova2017]   \n",
       "\n",
       "              studies                     taxa  \n",
       "47  [Isakova2017-Ttk]  Drosophila melanogaster  "
      ]
     },
     "execution_count": 5,
     "metadata": {},
     "output_type": "execute_result"
    }
   ],
   "source": [
    "database.get_model_id_desc(11388)"
   ]
  }
 ],
 "metadata": {
  "kernelspec": {
   "display_name": "Python 3",
   "language": "python",
   "name": "python3"
  },
  "language_info": {
   "codemirror_mode": {
    "name": "ipython",
    "version": 3
   },
   "file_extension": ".py",
   "mimetype": "text/x-python",
   "name": "python",
   "nbconvert_exporter": "python",
   "pygments_lexer": "ipython3",
   "version": "3.9.14"
  }
 },
 "nbformat": 4,
 "nbformat_minor": 5
}
